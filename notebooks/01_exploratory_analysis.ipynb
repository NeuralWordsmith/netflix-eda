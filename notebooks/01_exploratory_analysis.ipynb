{
 "cells": [
  {
   "cell_type": "markdown",
   "id": "d24d61b3",
   "metadata": {},
   "source": [
    "# Netflix Titles Exploratory Data Analysis"
   ]
  },
  {
   "cell_type": "markdown",
   "id": "ed07547d",
   "metadata": {},
   "source": [
    "\n",
    "This notebook explores the Netflix Movies and TV Shows dataset using Python.\n",
    "It involves data loading, cleaning, transformation, visualization, and extracting key insights.\n"
   ]
  },
  {
   "cell_type": "code",
   "execution_count": null,
   "id": "4d0134b0",
   "metadata": {},
   "outputs": [],
   "source": [
    "import pandas as pd\n",
    "import matplotlib.pyplot as plt\n",
    "import seaborn as sns\n",
    "from collections import Counter\n",
    "\n",
    "sns.set(style=\"whitegrid\")\n"
   ]
  },
  {
   "cell_type": "markdown",
   "id": "5837442c",
   "metadata": {},
   "source": [
    "## Load the Dataset"
   ]
  },
  {
   "cell_type": "code",
   "execution_count": null,
   "id": "50897ad7",
   "metadata": {},
   "outputs": [],
   "source": [
    "df = pd.read_csv(\"../data/netflix_titles.csv\")\n",
    "df.head()"
   ]
  },
  {
   "cell_type": "markdown",
   "id": "5f120ec7",
   "metadata": {},
   "source": [
    "## Dataset Overview"
   ]
  },
  {
   "cell_type": "code",
   "execution_count": null,
   "id": "7025d71b",
   "metadata": {},
   "outputs": [],
   "source": [
    "print(\"Shape of the dataset:\", df.shape)\n",
    "print(\"\\nColumn names:\")\n",
    "print(df.columns.tolist())\n",
    "print(\"\\nInfo:\")\n",
    "df.info()"
   ]
  },
  {
   "cell_type": "markdown",
   "id": "aa02bbc2",
   "metadata": {},
   "source": [
    "## Handle Missing Values"
   ]
  },
  {
   "cell_type": "code",
   "execution_count": null,
   "id": "a68a3387",
   "metadata": {},
   "outputs": [],
   "source": [
    "# Drop rows with few missing entries\n",
    "df = df.dropna(subset=['duration', 'rating', 'date_added'])\n",
    "\n",
    "# Fill remaining missing entries\n",
    "df['country'].fillna('Unknown', inplace=True)\n",
    "df['cast'].fillna('Not Provided', inplace=True)\n",
    "df['director'].fillna('Not Provided', inplace=True)\n"
   ]
  },
  {
   "cell_type": "markdown",
   "id": "4f203739",
   "metadata": {},
   "source": [
    "## Convert and Extract Date Info"
   ]
  },
  {
   "cell_type": "code",
   "execution_count": null,
   "id": "38d04bbe",
   "metadata": {},
   "outputs": [],
   "source": [
    "df['date_added'] = pd.to_datetime(df['date_added'].str.strip(), errors='coerce')\n",
    "df['year_added'] = df['date_added'].dt.year\n",
    "df['month_added'] = df['date_added'].dt.month\n",
    "df[['date_added', 'year_added', 'month_added']].head()"
   ]
  },
  {
   "cell_type": "markdown",
   "id": "64857cef",
   "metadata": {},
   "source": [
    "## Column Types and Unique Values"
   ]
  },
  {
   "cell_type": "code",
   "execution_count": null,
   "id": "e83a82d7",
   "metadata": {},
   "outputs": [],
   "source": [
    "print(\"Data Types:\\n\", df.dtypes)\n",
    "print(\"\\nUnique Values per Column:\\n\")\n",
    "print(df.nunique().sort_values(ascending=False))"
   ]
  },
  {
   "cell_type": "markdown",
   "id": "f4ea84ec",
   "metadata": {},
   "source": [
    "## Content Type Distribution"
   ]
  },
  {
   "cell_type": "code",
   "execution_count": null,
   "id": "c480729e",
   "metadata": {},
   "outputs": [],
   "source": [
    "plt.figure(figsize=(6, 4))\n",
    "sns.countplot(data=df, x=\"type\", palette=\"pastel\")\n",
    "plt.title(\"Count of Movies vs TV Shows on Netflix\")\n",
    "plt.xlabel(\"Content Type\")\n",
    "plt.ylabel(\"Count\")\n",
    "plt.tight_layout()\n",
    "plt.show()"
   ]
  },
  {
   "cell_type": "markdown",
   "id": "1d94d82a",
   "metadata": {},
   "source": [
    "## Titles Added Over Time"
   ]
  },
  {
   "cell_type": "code",
   "execution_count": null,
   "id": "b4557828",
   "metadata": {},
   "outputs": [],
   "source": [
    "plt.figure(figsize=(10, 5))\n",
    "sns.countplot(data=df, y=\"year_added\", order=sorted(df['year_added'].dropna().unique()), palette=\"pastel\")\n",
    "plt.title(\"Number of Titles Added to Netflix Each Year\")\n",
    "plt.xlabel(\"Count\")\n",
    "plt.ylabel(\"Year Added\")\n",
    "plt.tight_layout()\n",
    "plt.show()"
   ]
  },
  {
   "cell_type": "markdown",
   "id": "e6bbba5a",
   "metadata": {},
   "source": [
    "## Content Ratings"
   ]
  },
  {
   "cell_type": "code",
   "execution_count": null,
   "id": "e35d9288",
   "metadata": {},
   "outputs": [],
   "source": [
    "plt.figure(figsize=(10, 5))\n",
    "sns.countplot(data=df, y=\"rating\", order=df['rating'].value_counts().index, palette=\"pastel\")\n",
    "plt.title(\"Distribution of Content Ratings on Netflix\")\n",
    "plt.xlabel(\"Count\")\n",
    "plt.ylabel(\"Rating\")\n",
    "plt.tight_layout()\n",
    "plt.show()"
   ]
  },
  {
   "cell_type": "markdown",
   "id": "7a712aca",
   "metadata": {},
   "source": [
    "## Top Countries by Content Count"
   ]
  },
  {
   "cell_type": "code",
   "execution_count": null,
   "id": "855c28e7",
   "metadata": {},
   "outputs": [],
   "source": [
    "top_countries = df['country'].value_counts().head(10)\n",
    "plt.figure(figsize=(10, 5))\n",
    "sns.barplot(x=top_countries.values, y=top_countries.index, palette=\"pastel\")\n",
    "plt.title(\"Top 10 Countries by Content Count on Netflix\")\n",
    "plt.xlabel(\"Number of Titles\")\n",
    "plt.ylabel(\"Country\")\n",
    "plt.tight_layout()\n",
    "plt.show()"
   ]
  },
  {
   "cell_type": "markdown",
   "id": "65dd98b9",
   "metadata": {},
   "source": [
    "## Genre Frequency Analysis"
   ]
  },
  {
   "cell_type": "code",
   "execution_count": null,
   "id": "1e477ec5",
   "metadata": {},
   "outputs": [],
   "source": [
    "all_genres = df['listed_in'].str.split(', ').explode()\n",
    "genre_counts = Counter(all_genres)\n",
    "genre_df = pd.DataFrame(genre_counts.items(), columns=['Genre', 'Count'])\n",
    "genre_df = genre_df.sort_values(by='Count', ascending=False).reset_index(drop=True)\n",
    "\n",
    "plt.figure(figsize=(10, 6))\n",
    "sns.barplot(data=genre_df.head(15), x='Count', y='Genre', palette=\"pastel\")\n",
    "plt.title(\"Top 15 Most Common Netflix Genres\")\n",
    "plt.xlabel(\"Number of Titles\")\n",
    "plt.ylabel(\"Genre\")\n",
    "plt.tight_layout()\n",
    "plt.show()"
   ]
  },
  {
   "cell_type": "markdown",
   "id": "a34fb780",
   "metadata": {},
   "source": [
    "## Duration Analysis"
   ]
  },
  {
   "cell_type": "code",
   "execution_count": null,
   "id": "939e26df",
   "metadata": {},
   "outputs": [],
   "source": [
    "movies_df = df[df['type'] == 'Movie'].copy()\n",
    "tv_df = df[df['type'] == 'TV Show'].copy()\n",
    "\n",
    "movies_df['duration_int'] = movies_df['duration'].str.extract('(\\d+)').astype(int)\n",
    "tv_df['duration_int'] = tv_df['duration'].str.extract('(\\d+)').astype(int)\n",
    "\n",
    "plt.figure(figsize=(10, 5))\n",
    "sns.histplot(movies_df['duration_int'], bins=30, kde=True, color='skyblue')\n",
    "plt.title(\"Distribution of Movie Durations on Netflix\")\n",
    "plt.xlabel(\"Duration (minutes)\")\n",
    "plt.ylabel(\"Number of Movies\")\n",
    "plt.tight_layout()\n",
    "plt.show()\n",
    "\n",
    "plt.figure(figsize=(8, 5))\n",
    "sns.countplot(data=tv_df, x='duration_int', order=sorted(tv_df['duration_int'].unique()), palette='pastel')\n",
    "plt.title(\"Number of Seasons in Netflix TV Shows\")\n",
    "plt.xlabel(\"Number of Seasons\")\n",
    "plt.ylabel(\"Number of TV Shows\")\n",
    "plt.tight_layout()\n",
    "plt.show()"
   ]
  }
 ],
 "metadata": {
  "kernelspec": {
   "display_name": "Python 3 (ipykernel)",
   "language": "python",
   "name": "python3"
  },
  "language_info": {
   "codemirror_mode": {
    "name": "ipython",
    "version": 3
   },
   "file_extension": ".py",
   "mimetype": "text/x-python",
   "name": "python",
   "nbconvert_exporter": "python",
   "pygments_lexer": "ipython3",
   "version": "3.12.4"
  }
 },
 "nbformat": 4,
 "nbformat_minor": 5
}
