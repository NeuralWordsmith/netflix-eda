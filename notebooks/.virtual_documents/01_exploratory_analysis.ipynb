


import pandas as pd

df = pd.read_csv("../data/netflix_titles.csv")
df.head()



# Check the shape (rows, columns)
print("Shape of the dataset:", df.shape)

# View column names
print("\nColumn names:")
print(df.columns.tolist())

# View data types and non-null counts
print("\nInfo:")
df.info()



# Count missing values in each column
missing_values = df.isnull().sum()

# Show only columns with missing data
missing_values[missing_values > 0]



# Drop rows with missing 'duration', 'rating', or 'date_added'
df = df.dropna(subset=['duration', 'rating', 'date_added'])

print("New shape after dropping rows:", df.shape)



# Fill missing values with appropriate placeholders
df['country'].fillna('Unknown', inplace=True)
df['cast'].fillna('Not Provided', inplace=True)
df['director'].fillna('Not Provided', inplace=True)

# Confirm missing values are gone
df.isnull().sum()



# Convert 'date_added' to datetime
df['date_added'] = pd.to_datetime(df['date_added'])

# Optional: Create year and month columns
df['year_added'] = df['date_added'].dt.year
df['month_added'] = df['date_added'].dt.month

# Confirm changes
df[['date_added', 'year_added', 'month_added']].head()



# Strip whitespace and convert to datetime
df['date_added'] = pd.to_datetime(df['date_added'].str.strip(), errors='coerce')

# Extract year and month
df['year_added'] = df['date_added'].dt.year
df['month_added'] = df['date_added'].dt.month

# Check result
df[['date_added', 'year_added', 'month_added']].head()



# Check data types again
print("Data Types:\n", df.dtypes)

# Check number of unique values in each column
print("\nUnique Values per Column:\n")
print(df.nunique().sort_values(ascending=False))



import matplotlib.pyplot as plt
import seaborn as sns

# Set style
sns.set(style="whitegrid")

# Plot counts of content types
plt.figure(figsize=(6, 4))
sns.countplot(data=df, x="type", palette="pastel")

plt.title("Count of Movies vs TV Shows on Netflix")
plt.xlabel("Content Type")
plt.ylabel("Count")
plt.tight_layout()
plt.show()



plt.figure(figsize=(10, 5))

# Countplot of content added each year
sns.countplot(data=df, y="year_added", order=sorted(df['year_added'].dropna().unique()), palette="pastel")

plt.title("Number of Titles Added to Netflix Each Year")
plt.xlabel("Count")
plt.ylabel("Year Added")
plt.tight_layout()
plt.show()



plt.figure(figsize=(10, 5))

# Bar plot of content ratings
sns.countplot(data=df, y="rating", order=df['rating'].value_counts().index, palette="pastel")

plt.title("Distribution of Content Ratings on Netflix")
plt.xlabel("Count")
plt.ylabel("Rating")
plt.tight_layout()
plt.show()



# Get top 10 countries
top_countries = df['country'].value_counts().head(10)

# Plot
plt.figure(figsize=(10, 5))
sns.barplot(x=top_countries.values, y=top_countries.index, palette="pastel")

plt.title("Top 10 Countries by Content Count on Netflix")
plt.xlabel("Number of Titles")
plt.ylabel("Country")
plt.tight_layout()
plt.show()



from collections import Counter

# Combine all genre strings and split by comma
all_genres = df['listed_in'].str.split(', ').explode()

# Count each genre
genre_counts = Counter(all_genres)

# Convert to DataFrame
genre_df = pd.DataFrame(genre_counts.items(), columns=['Genre', 'Count'])
genre_df = genre_df.sort_values(by='Count', ascending=False).reset_index(drop=True)

# Plot top 15 genres
plt.figure(figsize=(10, 6))
sns.barplot(data=genre_df.head(15), x='Count', y='Genre', palette="pastel")

plt.title("Top 15 Most Common Netflix Genres")
plt.xlabel("Number of Titles")
plt.ylabel("Genre")
plt.tight_layout()
plt.show()



# Separate movies and TV shows
movies_df = df[df['type'] == 'Movie'].copy()
tv_df = df[df['type'] == 'TV Show'].copy()

# Extract duration in minutes (movies)
movies_df['duration_int'] = movies_df['duration'].str.extract('(\d+)').astype(int)

# Extract number of seasons (TV shows)
tv_df['duration_int'] = tv_df['duration'].str.extract('(\d+)').astype(int)

# Show top 5 rows from each
print("Movie durations (in minutes):")
print(movies_df[['title', 'duration', 'duration_int']].head())

print("\nTV show durations (in seasons):")
print(tv_df[['title', 'duration', 'duration_int']].head())



plt.figure(figsize=(10, 5))
sns.histplot(movies_df['duration_int'], bins=30, kde=True, color='skyblue')

plt.title("Distribution of Movie Durations on Netflix")
plt.xlabel("Duration (minutes)")
plt.ylabel("Number of Movies")
plt.tight_layout()
plt.show()



plt.figure(figsize=(8, 5))
sns.countplot(data=tv_df, x='duration_int', order=sorted(tv_df['duration_int'].unique()), palette='pastel')

plt.title("Number of Seasons in Netflix TV Shows")
plt.xlabel("Number of Seasons")
plt.ylabel("Number of TV Shows")
plt.tight_layout()
plt.show()



import os
import matplotlib.pyplot as plt

def save_and_show(fig_name, folder="../output/charts", dpi=300):
    os.makedirs(folder, exist_ok=True)
    plt.tight_layout()
    plt.savefig(f"{folder}/{fig_name}.png", dpi=dpi, bbox_inches='tight')
    plt.show()










